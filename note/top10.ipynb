{
 "cells": [
  {
   "cell_type": "code",
   "execution_count": 1,
   "id": "edd3a641-c120-4946-a691-26eda953913a",
   "metadata": {},
   "outputs": [],
   "source": [
    "import pandas as pd"
   ]
  },
  {
   "cell_type": "code",
   "execution_count": 5,
   "id": "94f87967-f925-4b13-a565-b17bcb228220",
   "metadata": {},
   "outputs": [
    {
     "data": {
      "text/html": [
       "<div>\n",
       "<style scoped>\n",
       "    .dataframe tbody tr th:only-of-type {\n",
       "        vertical-align: middle;\n",
       "    }\n",
       "\n",
       "    .dataframe tbody tr th {\n",
       "        vertical-align: top;\n",
       "    }\n",
       "\n",
       "    .dataframe thead th {\n",
       "        text-align: right;\n",
       "    }\n",
       "</style>\n",
       "<table border=\"1\" class=\"dataframe\">\n",
       "  <thead>\n",
       "    <tr style=\"text-align: right;\">\n",
       "      <th></th>\n",
       "      <th>cmd</th>\n",
       "      <th>cnt</th>\n",
       "      <th>dt</th>\n",
       "    </tr>\n",
       "  </thead>\n",
       "  <tbody>\n",
       "    <tr>\n",
       "      <th>0</th>\n",
       "      <td></td>\n",
       "      <td>2</td>\n",
       "      <td>2024-07-14</td>\n",
       "    </tr>\n",
       "    <tr>\n",
       "      <th>1</th>\n",
       "      <td>\"</td>\n",
       "      <td>2</td>\n",
       "      <td>2024-07-14</td>\n",
       "    </tr>\n",
       "    <tr>\n",
       "      <th>2</th>\n",
       "      <td>./app/savehistory/sv.sh</td>\n",
       "      <td>2</td>\n",
       "      <td>2024-07-14</td>\n",
       "    </tr>\n",
       "    <tr>\n",
       "      <th>3</th>\n",
       "      <td>./rootdir.sh</td>\n",
       "      <td>2</td>\n",
       "      <td>2024-07-14</td>\n",
       "    </tr>\n",
       "    <tr>\n",
       "      <th>4</th>\n",
       "      <td>./sleeptimer.sh</td>\n",
       "      <td>2</td>\n",
       "      <td>2024-07-14</td>\n",
       "    </tr>\n",
       "  </tbody>\n",
       "</table>\n",
       "</div>"
      ],
      "text/plain": [
       "                       cmd  cnt          dt\n",
       "0                             2  2024-07-14\n",
       "1                        \"    2  2024-07-14\n",
       "2  ./app/savehistory/sv.sh    2  2024-07-14\n",
       "3             ./rootdir.sh    2  2024-07-14\n",
       "4          ./sleeptimer.sh    2  2024-07-14"
      ]
     },
     "execution_count": 5,
     "metadata": {},
     "output_type": "execute_result"
    }
   ],
   "source": [
    "df = pd.read_parquet('~/data/parquet')\n",
    "df.head()"
   ]
  },
  {
   "cell_type": "markdown",
   "id": "d78138f6-79c7-46c3-9ebc-1eb76373ba06",
   "metadata": {},
   "source": [
    "# 날짜로 필터링"
   ]
  },
  {
   "cell_type": "code",
   "execution_count": 7,
   "id": "b6e6aa65-9aeb-4f28-8d2c-c18c9c75dabe",
   "metadata": {},
   "outputs": [
    {
     "data": {
      "text/html": [
       "<div>\n",
       "<style scoped>\n",
       "    .dataframe tbody tr th:only-of-type {\n",
       "        vertical-align: middle;\n",
       "    }\n",
       "\n",
       "    .dataframe tbody tr th {\n",
       "        vertical-align: top;\n",
       "    }\n",
       "\n",
       "    .dataframe thead th {\n",
       "        text-align: right;\n",
       "    }\n",
       "</style>\n",
       "<table border=\"1\" class=\"dataframe\">\n",
       "  <thead>\n",
       "    <tr style=\"text-align: right;\">\n",
       "      <th></th>\n",
       "      <th>cmd</th>\n",
       "      <th>cnt</th>\n",
       "      <th>dt</th>\n",
       "    </tr>\n",
       "  </thead>\n",
       "  <tbody>\n",
       "    <tr>\n",
       "      <th>0</th>\n",
       "      <td></td>\n",
       "      <td>2</td>\n",
       "      <td>2024-07-14</td>\n",
       "    </tr>\n",
       "    <tr>\n",
       "      <th>1</th>\n",
       "      <td>\"</td>\n",
       "      <td>2</td>\n",
       "      <td>2024-07-14</td>\n",
       "    </tr>\n",
       "    <tr>\n",
       "      <th>2</th>\n",
       "      <td>./app/savehistory/sv.sh</td>\n",
       "      <td>2</td>\n",
       "      <td>2024-07-14</td>\n",
       "    </tr>\n",
       "    <tr>\n",
       "      <th>3</th>\n",
       "      <td>./rootdir.sh</td>\n",
       "      <td>2</td>\n",
       "      <td>2024-07-14</td>\n",
       "    </tr>\n",
       "    <tr>\n",
       "      <th>4</th>\n",
       "      <td>./sleeptimer.sh</td>\n",
       "      <td>2</td>\n",
       "      <td>2024-07-14</td>\n",
       "    </tr>\n",
       "  </tbody>\n",
       "</table>\n",
       "</div>"
      ],
      "text/plain": [
       "                       cmd  cnt          dt\n",
       "0                             2  2024-07-14\n",
       "1                        \"    2  2024-07-14\n",
       "2  ./app/savehistory/sv.sh    2  2024-07-14\n",
       "3             ./rootdir.sh    2  2024-07-14\n",
       "4          ./sleeptimer.sh    2  2024-07-14"
      ]
     },
     "execution_count": 7,
     "metadata": {},
     "output_type": "execute_result"
    }
   ],
   "source": [
    "fdf = df[df['dt'] == '2024-07-14']\n",
    "fdf.head()"
   ]
  },
  {
   "cell_type": "code",
   "execution_count": 10,
   "id": "3c75b164-dbc4-42e9-b1c4-de99a49b6fb8",
   "metadata": {},
   "outputs": [],
   "source": [
    "sdf = fdf.sort_values(by='cnt', ascending=False).head(10)"
   ]
  },
  {
   "cell_type": "code",
   "execution_count": 12,
   "id": "483a4495-73ef-4f0b-8100-48c10ff63be3",
   "metadata": {},
   "outputs": [],
   "source": [
    "ddf = sdf.drop(columns=['dt'])"
   ]
  },
  {
   "cell_type": "code",
   "execution_count": 15,
   "id": "1e3b39a5-d067-4e13-a55e-647bd8e4ba8e",
   "metadata": {},
   "outputs": [
    {
     "name": "stdout",
     "output_type": "stream",
     "text": [
      "  cmd  cnt\n",
      "  git  238\n",
      "   cd   76\n",
      "   vi   52\n",
      "mkdir   44\n",
      "  cat   28\n",
      " date   24\n",
      "   ls   24\n",
      "   rm   22\n",
      " sudo   20\n",
      "   mv   20\n"
     ]
    }
   ],
   "source": [
    "print(ddf.to_string(index=False))"
   ]
  }
 ],
 "metadata": {
  "kernelspec": {
   "display_name": "Python 3 (ipykernel)",
   "language": "python",
   "name": "python3"
  },
  "language_info": {
   "codemirror_mode": {
    "name": "ipython",
    "version": 3
   },
   "file_extension": ".py",
   "mimetype": "text/x-python",
   "name": "python",
   "nbconvert_exporter": "python",
   "pygments_lexer": "ipython3",
   "version": "3.11.9"
  }
 },
 "nbformat": 4,
 "nbformat_minor": 5
}
